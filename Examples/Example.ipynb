{
 "cells": [
  {
   "cell_type": "markdown",
   "source": [
    "### Using shapeObjects\n",
    "\n",
    "This worksheet will allow you to work on these projects interactively with your own data but also provides some sample\n",
    "shapefiles for you to play with within this directory which you can do whatever you want with\n",
    "\n",
    "First lets load a shapefile where all you need to do is provide ShapeObject a valid path. We can print this object to\n",
    "see that the polygon.shp contains 14 different polygons. \n",
    "\n",
    "Shapefiles have types, such as polygons, edges, or Points where these three types are the ones actively supported along\n",
    "with these classifications sub-types such as multi-polygons where possible."
   ],
   "metadata": {
    "collapsed": false,
    "pycharm": {
     "name": "#%% md\n"
    }
   }
  },
  {
   "cell_type": "code",
   "execution_count": 5,
   "outputs": [
    {
     "name": "stdout",
     "text": [
      "Polygon.shp contains 14 polygons\n"
     ],
     "output_type": "stream"
    }
   ],
   "source": [
    "from shapeObject import ShapeObject\n",
    "\n",
    "file = ShapeObject(\"Shapefiles/Polygon.shp\")\n",
    "print(file)"
   ],
   "metadata": {
    "collapsed": false,
    "pycharm": {
     "name": "#%%\n",
     "is_executing": false
    }
   }
  },
  {
   "cell_type": "markdown",
   "source": [
    "### Iterating\n",
    "\n",
    "One of them most common things you will likely want to do is iterate through a shapefiles components. To do so just \n",
    "access the relevant object type, since we already printed this file we know it is a polygon shapefile. So we can iterate\n",
    "though the polygons and the records associate with it using the following command (in this case the records are empty). \n",
    "\n",
    "shapeObject uses Shapely extensively, so when you iterate you can access all the shapely functions associate with that\n",
    "type, in this case we have used the area of the shapely Polygon."
   ],
   "metadata": {
    "collapsed": false,
    "pycharm": {
     "name": "#%% md\n"
    }
   }
  },
  {
   "cell_type": "code",
   "execution_count": 6,
   "outputs": [
    {
     "name": "stdout",
     "text": [
      "POLYGON ((439.7125984251973 -814.6653543307112, 440.5629921259846 -813.0354330708687, 441.5551181102365 -811.5826771653569, 442.405511811024 -810.3070866141758, 443.6811023622051 -808.9960629921286, 444.8858267716539 -807.9685039370105, 446.5511811023625 -806.7283464566955, 448.2874015748035 -805.8779527559082, 449.7755905511814 -805.3464566929159, 451.5118110236224 -805.098425196853, 453.6732283464571 -805.0275590551207, 455.7992125984256 -804.9566929133885, 460.1929133858272 -805.3818897637822, 462.2480314960634 -806.3031496063018, 464.657480314961 -808.2165354330734, 465.9330708661421 -810.342519685042, 466.0039370078744 -814.098425196853, 464.3031496062996 -817.2874015748057, 461.1850393700792 -820.6181102362231, 457.2874015748035 -822.3188976377978, 450.4842519685043 -822.8149606299239, 446.7992125984256 -821.8228346456719, 445.2401574803154 -820.9015748031522, 443.1850393700792 -819.4133858267743, 441.2716535433075 -817.4291338582703, 439.7125984251973 -814.6653543307112))\n",
      "Record #0: [None]\n",
      "357.332336164673\n"
     ],
     "output_type": "stream"
    }
   ],
   "source": [
    "for poly, record in zip(file.polygons, file.records):\n",
    "    print(poly)\n",
    "    print(record)\n",
    "    print(poly.area)\n",
    "    break\n"
   ],
   "metadata": {
    "collapsed": false,
    "pycharm": {
     "name": "#%%\n",
     "is_executing": false
    }
   }
  },
  {
   "cell_type": "markdown",
   "source": [
    "### Accessing type when type is unknown\n",
    "\n",
    "If you are unsure as to what a shapefile will contain, for example when iterating though multiple shapefiles, you can \n",
    "access the type of the shapefile to use as a getter for getattr so that you always load the correct file. \n",
    "\n",
    "Here we load another one of our examples 'Line.shp'. The first thing you may notice is that 3 elements where skipped. If\n",
    "an entry does not have any geometry then it **will not be loaded**, even if their are records associate with it, please\n",
    "keep this in mind. This is a way to give the the index number (base 0) of the elements that might need cleaning or \n",
    "fixing in GIS software like QGIS3.\n",
    "\n",
    "Now we can use this information to get the correct type even when we do not explicitly know the type via getattr, here\n",
    "we extract the geometry from each of our files and print the first instance of the geometry. If you try to call the \n",
    "wrong type then you will be told so via a TypeError.\n"
   ],
   "metadata": {
    "collapsed": false,
    "pycharm": {
     "name": "#%% md\n"
    }
   }
  },
  {
   "cell_type": "code",
   "execution_count": 17,
   "outputs": [
    {
     "name": "stdout",
     "text": [
      "Null found for 20th element, which was skipped\n",
      "Null found for 21th element, which was skipped\n",
      "Null found for 23th element, which was skipped\n",
      "polygons\n",
      "POLYGON ((439.7125984251973 -814.6653543307112, 440.5629921259846 -813.0354330708687, 441.5551181102365 -811.5826771653569, 442.405511811024 -810.3070866141758, 443.6811023622051 -808.9960629921286, 444.8858267716539 -807.9685039370105, 446.5511811023625 -806.7283464566955, 448.2874015748035 -805.8779527559082, 449.7755905511814 -805.3464566929159, 451.5118110236224 -805.098425196853, 453.6732283464571 -805.0275590551207, 455.7992125984256 -804.9566929133885, 460.1929133858272 -805.3818897637822, 462.2480314960634 -806.3031496063018, 464.657480314961 -808.2165354330734, 465.9330708661421 -810.342519685042, 466.0039370078744 -814.098425196853, 464.3031496062996 -817.2874015748057, 461.1850393700792 -820.6181102362231, 457.2874015748035 -822.3188976377978, 450.4842519685043 -822.8149606299239, 446.7992125984256 -821.8228346456719, 445.2401574803154 -820.9015748031522, 443.1850393700792 -819.4133858267743, 441.2716535433075 -817.4291338582703, 439.7125984251973 -814.6653543307112))\n",
      "edges\n",
      "LINESTRING (454.7716535433073 -688.6299212598427, 447.6850393700789 -696.2834645669293, 442.0157480314962 -705.9212598425198, 436.0629921259845 -719.8110236220474, 430.6771653543309 -738.2362204724411)\n"
     ],
     "output_type": "stream"
    }
   ],
   "source": [
    "file2 = ShapeObject(\"Shapefiles/Line.shp\")\n",
    "\n",
    "for f in [file, file2]:\n",
    "    print(f.shapefile_type)\n",
    "    print(getattr(f, f.shapefile_type)[0])"
   ],
   "metadata": {
    "collapsed": false,
    "pycharm": {
     "name": "#%%\n",
     "is_executing": false
    }
   }
  },
  {
   "cell_type": "markdown",
   "source": [
    "### Writing shapefiles\n",
    "\n",
    "In the same way as you can convert the pyshp reader information into Shapely Geometry you can also use shapeObjects to\n",
    "do the reverse and write shapefiles via pyshp via converting Shapely Geometry. As a warning this does not currently use\n",
    "a coordinate reference system (CRS) so it will only write a dbf, shp and shx and not the prj or cpg.\n"
   ],
   "metadata": {
    "collapsed": false,
    "pycharm": {
     "name": "#%% md\n"
    }
   }
  },
  {
   "cell_type": "code",
   "execution_count": null,
   "outputs": [],
   "source": [
    "from shapeObject import write_shape_file\n",
    "write_shape_file(r\"path_to_directory\", \"file_name\", file.field_names, file.polygons, file.records)\n",
    "\n"
   ],
   "metadata": {
    "collapsed": false,
    "pycharm": {
     "name": "#%%\n"
    }
   }
  }
 ],
 "metadata": {
  "kernelspec": {
   "display_name": "Python 3",
   "language": "python",
   "name": "python3"
  },
  "language_info": {
   "codemirror_mode": {
    "name": "ipython",
    "version": 2
   },
   "file_extension": ".py",
   "mimetype": "text/x-python",
   "name": "python",
   "nbconvert_exporter": "python",
   "pygments_lexer": "ipython2",
   "version": "2.7.6"
  },
  "pycharm": {
   "stem_cell": {
    "cell_type": "raw",
    "source": [],
    "metadata": {
     "collapsed": false
    }
   }
  }
 },
 "nbformat": 4,
 "nbformat_minor": 0
}